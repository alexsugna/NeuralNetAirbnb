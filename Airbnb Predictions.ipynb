{
 "cells": [
  {
   "attachments": {},
   "cell_type": "markdown",
   "metadata": {},
   "source": [
    "## Data that Connects You to Home\n",
    "\n",
    "AD DataProperties is a fintech real estate disruptor believing that property buying, selling and renting properties should be easy for property owners and property managers. At AD Data we have developed many tools by aggregating data and deploying prediction tools over the years to help our customers with the datafication of real estate in the 21st century. Our most recent tool is designed for property owners and property managers who are looking for ways to streamline and set optimal prices for their properties around the country. \n",
    "\n",
    "This recent tool, called AD PriceSetter, was created specifically using data from Austin, Texas, and in the next few months we plan to release it to property owners in over 50 cities nationwide. Our tool harnesses the power of Big Data and Machine Learning based AI by analyzing multiple data features of currently listed properties from around a given city. We use that data to generate a model with which you as a property owner, or manager, use to set the most optimal prices for renting out your Airbnb properties. The following is meant as an outline to provide you with some insight into our model."
   ]
  },
  {
   "cell_type": "code",
   "execution_count": 1,
   "metadata": {},
   "outputs": [
    {
     "name": "stderr",
     "output_type": "stream",
     "text": [
      "Using TensorFlow backend.\n"
     ]
    }
   ],
   "source": [
    "\"\"\"\n",
    "Import necessary packages.\n",
    "\"\"\"\n",
    "from clean_data import get_cleaned_data, normalize\n",
    "from neural_nets import NeuralNet\n",
    "from sklearn.model_selection import train_test_split\n",
    "import numpy as np\n",
    "from keras.models import Sequential\n",
    "from keras.layers import Dense\n",
    "from keras.wrappers.scikit_learn import KerasRegressor\n",
    "from sklearn.model_selection import cross_val_score\n",
    "from sklearn.model_selection import KFold"
   ]
  },
  {
   "cell_type": "code",
   "execution_count": 2,
   "metadata": {},
   "outputs": [],
   "source": [
    "\"\"\"\n",
    "Read in data, split into test/train sets, and normalize.\n",
    "\"\"\"\n",
    "excel_file = 'reduced_listings.xlsx'            #dataset file\n",
    "\n",
    "features = [\"host_listings_count\",\"bathrooms\", \"bedrooms\",            #relevant features\n",
    "            \"security_deposit\",\"extra_people\", 'minimum_nights',\n",
    "            'maximum_nights', 'availability_90','amenities', \n",
    "            'number_of_reviews', 'review_scores_rating',\n",
    "            'instant_bookable','cancellation_policy', \"price\"]\n",
    "\n",
    "X, y = get_cleaned_data(excel_file, features)            #read in data as np arrays\n",
    "\n",
    "test_size = 0.2            #size of test set\n",
    "\n",
    "X_train_, X_test_, y_train_, y_test_ = train_test_split(X, y, test_size=test_size) #split into train, test sets\n",
    "\n",
    "X_train = normalize(X_train_) #normalize data\n",
    "X_test = normalize(X_test_)\n",
    "y_train = normalize(y_train_.reshape(-1, 1)).flatten()\n",
    "y_test = normalize(y_test_.reshape(-1, 1)).flatten()"
   ]
  },
  {
   "attachments": {},
   "cell_type": "markdown",
   "metadata": {},
   "source": [
    "Everything starts with data; in our case, BIG DATA. We scraped Airbnb data for over 11,000 currently listed housing units in and around the Austin, Texas area. After doing some data cleaning and feature selection of 13 features which we believed have the highest impact on pricing of units, we then split the data into test and training data sets, and normalized the data to feed our Machine Learning based AI. Specifically, to design this pricing model we brought in the big guns of ML and churned out a regression based Neural Network solution. Our Neural Network was able to burn through the data in record time after necessary Kfolding of the dataset to drive reliable results. Our Neural Network was designed with two layers. The first layer was designed with an activation function in mind after significant adjustment of the weights was achieved through the model."
   ]
  },
  {
   "cell_type": "code",
   "execution_count": 3,
   "metadata": {},
   "outputs": [
    {
     "name": "stdout",
     "output_type": "stream",
     "text": [
      "Model: \"sequential_1\"\n",
      "_________________________________________________________________\n",
      "Layer (type)                 Output Shape              Param #   \n",
      "=================================================================\n",
      "dense_1 (Dense)              (None, 128)               1792      \n",
      "_________________________________________________________________\n",
      "dense_2 (Dense)              (None, 128)               16512     \n",
      "_________________________________________________________________\n",
      "dense_3 (Dense)              (None, 1)                 129       \n",
      "=================================================================\n",
      "Total params: 18,433\n",
      "Trainable params: 18,433\n",
      "Non-trainable params: 0\n",
      "_________________________________________________________________\n",
      "None\n"
     ]
    }
   ],
   "source": [
    "\"\"\"\n",
    "Build Neural Network\n",
    "\"\"\"\n",
    "\n",
    "model = NeuralNet() #initialize network\n",
    "\n",
    "num_features = np.shape(X_train)[1] \n",
    "input_shape = 128\n",
    "activation_function = 'relu' \n",
    "loss_function = 'mean_squared_error' \n",
    "epochs = 100\n",
    "batch_size = 250\n",
    "optimizer = 'adam'\n",
    "verbosity = 0\n",
    "k_folds = 5\n",
    "hidden_nodes = 128\n",
    "validation_split = 0.1\n",
    "\n",
    "#add  layers to neural network\n",
    "model.add_first_layer(input_shape, num_features, activation_function)\n",
    "model.add_layer(hidden_nodes, activation_function, regularization=True)\n",
    "model.add_last_layer()\n",
    "\n",
    "model.compile(loss_function, optimizer, epochs, batch_size, verbosity)\n"
   ]
  },
  {
   "cell_type": "code",
   "execution_count": 4,
   "metadata": {},
   "outputs": [],
   "source": [
    "#train network and store losses in history\n",
    "history = model.train(X_train, y_train, epochs,\n",
    "                      batch_size, validation_split)"
   ]
  },
  {
   "cell_type": "markdown",
   "metadata": {},
   "source": [
    "Through constant measurement of the MSE and adjustment of hyperparameters such as the number of hidden layers, the number of nodes, activation function, batch size, number of epochs, and regularization choices, we ruthlessly derived for our customers a model best suited to predict and place an optimal pricing for a unit. In the end, our regression model achieves a MSE that is comparable to other Deep Learning models of this type, which are more than likely better estimators of the correct listing price than a human lister."
   ]
  },
  {
   "cell_type": "code",
   "execution_count": 5,
   "metadata": {},
   "outputs": [
    {
     "name": "stdout",
     "output_type": "stream",
     "text": [
      "Training MSE: 0.2029\n",
      "Validation MSE: 0.1997\n",
      "\n",
      "Training r2: 0.7971\n",
      "Validation r2: 0.8003\n"
     ]
    },
    {
     "data": {
      "image/png": "[encoded data removed]",
      "text/plain": [
       "<Figure size 432x288 with 1 Axes>"
      ]
     },
     "metadata": {
      "needs_background": "light"
     },
     "output_type": "display_data"
    }
   ],
   "source": [
    "#evaluate the NN model by analyzing mean squared error and R2 score\n",
    "model.evaluate(X_train, y_train, X_test, y_test)"
   ]
  },
  {
   "cell_type": "code",
   "execution_count": null,
   "metadata": {},
   "outputs": [],
   "source": []
  }
 ],
 "metadata": {
  "kernelspec": {
   "display_name": "Python 3",
   "language": "python",
   "name": "python3"
  },
  "language_info": {
   "codemirror_mode": {
    "name": "ipython",
    "version": 3
   },
   "file_extension": ".py",
   "mimetype": "text/x-python",
   "name": "python",
   "nbconvert_exporter": "python",
   "pygments_lexer": "ipython3",
   "version": "3.7.4"
  }
 },
 "nbformat": 4,
 "nbformat_minor": 2
}
